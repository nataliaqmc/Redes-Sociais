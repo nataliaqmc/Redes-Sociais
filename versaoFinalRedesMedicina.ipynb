{
 "cells": [
  {
   "cell_type": "markdown",
   "id": "43701c0e",
   "metadata": {},
   "source": [
    "# Versao final - projeto de Redes Sociais"
   ]
  },
  {
   "cell_type": "code",
   "execution_count": 1,
   "id": "321d5b0b",
   "metadata": {},
   "outputs": [
    {
     "data": {
      "text/html": [
       "\n",
       "    <script src=\"/files/netpixi.min.js\"></script>\n"
      ],
      "text/plain": [
       "<IPython.core.display.HTML object>"
      ]
     },
     "metadata": {},
     "output_type": "display_data"
    },
    {
     "name": "stderr",
     "output_type": "stream",
     "text": [
      "<frozen importlib._bootstrap>:914: ImportWarning: VendorImporter.find_spec() not found; falling back to find_module()\n",
      "<frozen importlib._bootstrap>:914: ImportWarning: VendorImporter.find_spec() not found; falling back to find_module()\n"
     ]
    }
   ],
   "source": [
    "#Import das bibliotecas e criacao do Graph graph dirigido\n",
    "import pandas as pd\n",
    "import netpixi #import das bibliotecas necessáriavalue_countss\n",
    "from netpixi.integration.gt import *\n",
    "from regression.integration.gt import *\n",
    "import seaborn as sns\n",
    "import matplotlib.pyplot as plt\n",
    "import pathlib\n",
    "\n",
    "from random import random, seed\n",
    "\n",
    "graph = Graph(directed=True) #dirigidonão"
   ]
  },
  {
   "cell_type": "code",
   "execution_count": 2,
   "id": "1c85fa07",
   "metadata": {},
   "outputs": [],
   "source": [
    "# Datesets contendo as citacoes e as informacoes das patentes\n",
    "citacoes = pd.read_csv(\"cite75_99.txt\",sep=\",\")\n",
    "patent_data = pd.read_csv(\"apat63_99.txt\",sep=\",\")"
   ]
  },
  {
   "cell_type": "code",
   "execution_count": 3,
   "id": "1bc71676",
   "metadata": {},
   "outputs": [],
   "source": [
    "# Como iremos trabalhar com somente patentes da categoria de computacao\n",
    "# Iremos remover todos que pertencem a outras categorias\n",
    "computacao = patent_data[patent_data[\"CAT\"]==3] #CAT 2 esta na documentacao como sendo de computacao\n",
    "patentes_computacao = computacao[\"PATENT\"] #pd.series com o numero de todas as patentes de computacao"
   ]
  },
  {
   "cell_type": "code",
   "execution_count": 4,
   "id": "cf5821a5",
   "metadata": {},
   "outputs": [
    {
     "data": {
      "text/plain": [
       "6          3070807\n",
       "7          3070808\n",
       "196        3070997\n",
       "239        3071040\n",
       "241        3071042\n",
       "            ...   \n",
       "2923714    6009347\n",
       "2923715    6009348\n",
       "2923716    6009349\n",
       "2923717    6009350\n",
       "2923718    6009351\n",
       "Name: PATENT, Length: 204199, dtype: int64"
      ]
     },
     "execution_count": 4,
     "metadata": {},
     "output_type": "execute_result"
    }
   ],
   "source": [
    "# Somente uma fracao dessas patentes sera utilizada para montar a rede\n",
    "# e fazer a regressao logistica\n",
    "am_pat_comp = patentes_computacao\n",
    "am_pat_comp"
   ]
  },
  {
   "cell_type": "code",
   "execution_count": 5,
   "id": "a982acd9",
   "metadata": {},
   "outputs": [],
   "source": [
    "# Nesta celula, estamos retirando as patentes gerais que nao pertencem a computacao\n",
    "cit_comp = citacoes[citacoes[\"CITING\"].isin(am_pat_comp)]\n",
    "cit_comp = cit_comp[cit_comp[\"CITED\"].isin(am_pat_comp)]"
   ]
  },
  {
   "cell_type": "markdown",
   "id": "59e75c33",
   "metadata": {},
   "source": [
    "## Preparando o grafo"
   ]
  },
  {
   "cell_type": "code",
   "execution_count": null,
   "id": "8d57bc51",
   "metadata": {},
   "outputs": [],
   "source": [
    "# Patentes disruptivas eh a variavel independente e patentes importantes eh a variavel dependente\n",
    "# patentes disruptivas sao medidas pela quantidade de subcategorias de comp que citam ela (qualitativa)\n",
    "# patentes importantes sao medidas pelo pageRank (quantitativa)\n",
    "# independente qualitativa e dependente quantitativa\n",
    "vertex = []\n",
    "edge = []\n",
    "\n",
    "# Funcao responsavel por contruir o grafo a partir das informacoes do dataframe cit_comp\n",
    "def citting(id1,id2):\n",
    "    id1 = int(id1)\n",
    "    id2 = int(id2)\n",
    "    if not graph.has_vertex(id1):\n",
    "        vertex.append(id1)\n",
    "        graph.add_vertex(id1)\n",
    "\n",
    "    if not graph.has_vertex(id2):\n",
    "        graph.add_vertex(id2)\n",
    "        vertex.append(id2)\n",
    "    if not graph.has_edge(id1,id2):\n",
    "        edge.append([id1,id2])\n",
    "        edge.append([id1,id2])#ver jeito melhor\n",
    "        graph.add_edge(id1,id2)\n",
    "    return id1,id2\n",
    "\n",
    "a = cit_comp[['CITING', 'CITED']].apply(lambda x: citting(x['CITING'], x['CITED']), axis=1)"
   ]
  },
  {
   "cell_type": "code",
   "execution_count": null,
   "id": "f6895cdd",
   "metadata": {},
   "outputs": [],
   "source": [
    "# Pegando as metricas locais de degree,pageRank e \n",
    "n = graph.num_vertices()\n",
    "m = graph.num_edges()\n",
    "if graph.is_directed():\n",
    "    max_edges = n * (n - 1)\n",
    "else:\n",
    "    max_edges = n * (n - 1) // 2\n",
    "d = m / max_edges\n",
    "\n",
    "dc = gt_total_degree(graph)\n",
    "dc_in = gt_in_degree(graph)\n",
    "dc_out = gt_out_degree(graph)\n",
    "\n",
    "graph.add_vp('degree',dc)\n",
    "graph.add_vp('in_degree',dc_in)\n",
    "graph.add_vp('out_degree',dc_out)\n",
    "\n",
    "print(\"Número de vértices = \", n)\n",
    "print(\"Número de arestas = \", m)\n",
    "print(\"Número máximo de arestas = \", max_edges)\n",
    "print(\"Densidade = \",d)"
   ]
  },
  {
   "cell_type": "code",
   "execution_count": null,
   "id": "5b1959aa",
   "metadata": {},
   "outputs": [],
   "source": [
    "#adicionando coluna de SUBCAT de cada vertice\n",
    "graph.add_vp('SUBCAT')\n",
    "for i in graph.all_vertices():\n",
    "\n",
    "    a = computacao[computacao['PATENT'] == i.get_id()]['SUBCAT']\n",
    "    teste = a.iloc[0]\n",
    "\n",
    "    i['SUBCAT'] = str(teste)"
   ]
  },
  {
   "cell_type": "code",
   "execution_count": null,
   "id": "d9116ad0",
   "metadata": {},
   "outputs": [],
   "source": [
    "# Adicionando cor correspondente a SUBCAT\n",
    "graph.add_vp('color')\n",
    "for v in graph.all_vertices(): \n",
    "    if v['SUBCAT'] == \"31\":\n",
    "        v['color'] = 0xffd700\n",
    "    elif v['SUBCAT'] == \"32\":\n",
    "        v['color'] = 0x00ff00\n",
    "    elif v['SUBCAT'] == \"33\":\n",
    "        v['color'] = 0xE69138\n",
    "    elif v['SUBCAT'] == \"39\":\n",
    "        v['color'] = 0x6AA84F\n",
    "    else:\n",
    "        print(\"outro\")"
   ]
  },
  {
   "cell_type": "code",
   "execution_count": null,
   "id": "94b42919",
   "metadata": {},
   "outputs": [],
   "source": [
    "# Adicionando a metrica local pageRank para cada vertice\n",
    "from graph_tool import centrality\n",
    "pr = centrality.pagerank(graph)\n",
    "graph.add_vp('pagerank', pr)\n",
    "gt_data(graph)"
   ]
  },
  {
   "cell_type": "code",
   "execution_count": null,
   "id": "e031d8b0",
   "metadata": {},
   "outputs": [],
   "source": [
    "data = gt_data(graph)\n",
    "info_vertices = data.copy()"
   ]
  },
  {
   "cell_type": "code",
   "execution_count": null,
   "id": "a0ed7736",
   "metadata": {},
   "outputs": [],
   "source": [
    "info_vertices.reset_index(inplace=True)"
   ]
  },
  {
   "cell_type": "code",
   "execution_count": null,
   "id": "362a2c8a",
   "metadata": {},
   "outputs": [],
   "source": [
    "info_vertices"
   ]
  },
  {
   "cell_type": "markdown",
   "id": "dcbd0537",
   "metadata": {},
   "source": [
    "### Encontrando quantas subcategorias uma patente da subcategoria x e citada \n",
    "\n",
    "Para isso, merge entre info_vertices e cit_comp. Depois groupby cited "
   ]
  },
  {
   "cell_type": "code",
   "execution_count": null,
   "id": "dfc5a48f",
   "metadata": {},
   "outputs": [],
   "source": [
    "# Merge para pegar subcat de patente CITED e CITTING\n",
    "cit_comp_info = cit_comp.merge(info_vertices,left_on='CITED',right_on='id',how='left')\n",
    "cit_comp_info = cit_comp_info.loc[:,['CITING','CITED','SUBCAT','pagerank']]\n",
    "cit_comp_info = cit_comp_info.rename(columns={'SUBCAT':'SUBCAT_CITED','pagerank':'pagerank_CITED'})"
   ]
  },
  {
   "cell_type": "code",
   "execution_count": null,
   "id": "9f981997",
   "metadata": {},
   "outputs": [],
   "source": [
    "cit_final = cit_comp_info.merge(info_vertices,left_on='CITING',right_on='id',how='left')\n",
    "cit_final = cit_final.loc[:,['CITING','CITED','SUBCAT_CITED','pagerank_CITED','SUBCAT','pagerank']]\n",
    "cit_final = cit_final.rename(columns={'SUBCAT':'SUBCAT_CITING','pagerank':'pagerank_CITING'})"
   ]
  },
  {
   "cell_type": "code",
   "execution_count": null,
   "id": "bf921ffd",
   "metadata": {},
   "outputs": [],
   "source": [
    "cit_final = cit_final.loc[:,['CITED','SUBCAT_CITED','pagerank_CITED','SUBCAT_CITING']]"
   ]
  },
  {
   "cell_type": "code",
   "execution_count": null,
   "id": "5031e4dc",
   "metadata": {},
   "outputs": [],
   "source": [
    "cit_final"
   ]
  },
  {
   "cell_type": "code",
   "execution_count": null,
   "id": "be459c02",
   "metadata": {},
   "outputs": [],
   "source": [
    "cit_final_entre_pat_diferentes = cit_final[cit_final['SUBCAT_CITED'] != cit_final['SUBCAT_CITING']]\n",
    "cit_final_entre_pat_iguais = cit_final[cit_final['SUBCAT_CITED'] == cit_final['SUBCAT_CITING']]"
   ]
  },
  {
   "cell_type": "code",
   "execution_count": null,
   "id": "9fc48cf5",
   "metadata": {},
   "outputs": [],
   "source": [
    "a = cit_final_entre_pat_diferentes.groupby(by=['CITED']).nunique()\n",
    "b = cit_final_entre_pat_iguais.groupby(by=['CITED']).nunique()"
   ]
  },
  {
   "cell_type": "code",
   "execution_count": null,
   "id": "41537534",
   "metadata": {},
   "outputs": [],
   "source": [
    "a = a.reset_index() #Patente e por quantas subcategorias diferentes ela 'e citada'\n",
    "b = b.reset_index() #Patente so esta aqui caso tenha sido citada por uma patente de mesma categoria pelo menos uma vez"
   ]
  },
  {
   "cell_type": "code",
   "execution_count": null,
   "id": "63f856d0",
   "metadata": {},
   "outputs": [],
   "source": [
    "a"
   ]
  },
  {
   "cell_type": "code",
   "execution_count": null,
   "id": "4adaf75b",
   "metadata": {},
   "outputs": [],
   "source": [
    "b"
   ]
  },
  {
   "cell_type": "markdown",
   "id": "61327a1c",
   "metadata": {},
   "source": [
    "Caso patente esteja somente em b,quant_subcat=0.\n",
    "\n",
    "Caso patente esteja em a e b,quant_subcat=valor em a\n",
    "\n",
    "Caso patente esteja somente em a,quant_subcat=valor em a"
   ]
  },
  {
   "cell_type": "code",
   "execution_count": null,
   "id": "e5f06a2a",
   "metadata": {},
   "outputs": [],
   "source": [
    "a = a.loc[:,['CITED','SUBCAT_CITING']]\n",
    "b = b.loc[:,['CITED','SUBCAT_CITING']]\n",
    "a = a.rename(columns={'SUBCAT_CITING':'quant_subcat_diferentes'})\n",
    "b = b.rename(columns={'SUBCAT_CITING':'quant_subcat_igual'})"
   ]
  },
  {
   "cell_type": "code",
   "execution_count": null,
   "id": "7f486e6b",
   "metadata": {},
   "outputs": [],
   "source": [
    "correct = a.merge(b,how='outer') #Todas as patentes\n",
    "# correct['coluna1'].fillna(0, inplace=True)\n",
    "#Se diferentes e igual for null => quant_total = 0\n",
    "#Se diferentes for Nan e igual for 1 => quant_total = 0\n",
    "#Se diferentes for 1 e igual for Nan => quant_total = 1\n",
    "#Se diferentes for 1 e igual for 1 => quant_total = 1\n",
    "#...\n",
    "correct['quant_subcat_diferentes'].fillna(0,inplace=True)\n",
    "correct['quant_subcat_igual'].fillna(1,inplace=True)\n",
    "correct['quant_subcat_total'] = correct['quant_subcat_diferentes'] + correct['quant_subcat_igual'] - 1"
   ]
  },
  {
   "cell_type": "code",
   "execution_count": null,
   "id": "217c92eb",
   "metadata": {},
   "outputs": [],
   "source": [
    "correct['quant_subcat_total'].describe()"
   ]
  },
  {
   "cell_type": "code",
   "execution_count": null,
   "id": "b9bb52bf",
   "metadata": {},
   "outputs": [],
   "source": [
    "# Dataframe correct possui todas as patentes de computacao que foram citadas\n",
    "# Fazer agora um merge entre correct e info_vertices para pegar o pageRank\n",
    "\n",
    "final = correct.merge(info_vertices,left_on=\"CITED\",right_on=\"id\")\n",
    "final"
   ]
  },
  {
   "cell_type": "code",
   "execution_count": null,
   "id": "7526152a",
   "metadata": {},
   "outputs": [],
   "source": [
    "# Fazendo o staircase encoding para fazer a regressao logistica\n",
    "values = list(final['quant_subcat_total'].unique())\n",
    "values.sort()\n",
    "\n",
    "def staircase_encoding(vals,df):\n",
    "    length = len(vals) - 1\n",
    "\n",
    "    dummies = [[] for i in range(length)]\n",
    "\n",
    "    for value in df['quant_subcat_total']:\n",
    "        index = vals.index(value)\n",
    "\n",
    "        for i in range(index):\n",
    "            dummies[i].append(1)\n",
    "\n",
    "        for i in range(index, length):\n",
    "            dummies[i].append(0)\n",
    "\n",
    "    for value, dummy in zip(values[1:], dummies):\n",
    "        df[f'quant_subcat_total{value}'] = dummy\n",
    "    \n",
    "    return df\n",
    "\n",
    "data_reg = staircase_encoding(values,final)"
   ]
  },
  {
   "cell_type": "code",
   "execution_count": null,
   "id": "7dc305b0",
   "metadata": {},
   "outputs": [],
   "source": [
    "dataa = data_reg.loc[:,['CITED','quant_subcat_total','SUBCAT','pagerank','quant_subcat_total1.0','quant_subcat_total2.0','quant_subcat_total3.0']]"
   ]
  },
  {
   "cell_type": "code",
   "execution_count": null,
   "id": "ea48d650",
   "metadata": {},
   "outputs": [],
   "source": [
    "dataa = dataa.rename(columns={'quant_subcat_total1.0':'quant_subcat_total1','quant_subcat_total2.0':'quant_subcat_total2','quant_subcat_total3.0':'quant_subcat_total3'})"
   ]
  },
  {
   "cell_type": "markdown",
   "id": "ea5f08b1",
   "metadata": {},
   "source": [
    "## Regressao Logistica"
   ]
  },
  {
   "cell_type": "code",
   "execution_count": null,
   "id": "dd7987d8",
   "metadata": {},
   "outputs": [],
   "source": [
    "import numpy as np\n",
    "import pandas as pd\n",
    "import seaborn as sns\n",
    "import regression as reg\n",
    "\n",
    "from scipy import stats\n",
    "from matplotlib import pyplot as plt"
   ]
  },
  {
   "cell_type": "code",
   "execution_count": null,
   "id": "47193d3f",
   "metadata": {},
   "outputs": [],
   "source": [
    "result = reg.linear(data=dataa, formula='np.log(pagerank) ~ quant_subcat_total1 + quant_subcat_total2 + quant_subcat_total3')\n",
    "\n",
    "result.nano_summary()"
   ]
  },
  {
   "cell_type": "code",
   "execution_count": null,
   "id": "25ebdf28",
   "metadata": {},
   "outputs": [],
   "source": [
    "result.plot_residuals()"
   ]
  },
  {
   "cell_type": "code",
   "execution_count": null,
   "id": "8e6e26ac",
   "metadata": {},
   "outputs": [],
   "source": [
    "sns.boxplot(x=dataa['quant_subcat_total'], y=dataa['pagerank'], linewidth=1)\n",
    "# sns.swarmplot(x=dataa['quant_subcat_total1'], y=dataa['pagerank'], linewidth=1)"
   ]
  },
  {
   "cell_type": "code",
   "execution_count": null,
   "id": "a3bd9682",
   "metadata": {},
   "outputs": [],
   "source": []
  }
 ],
 "metadata": {
  "kernelspec": {
   "display_name": "Python 3 (ipykernel)",
   "language": "python",
   "name": "python3"
  },
  "language_info": {
   "codemirror_mode": {
    "name": "ipython",
    "version": 3
   },
   "file_extension": ".py",
   "mimetype": "text/x-python",
   "name": "python",
   "nbconvert_exporter": "python",
   "pygments_lexer": "ipython3",
   "version": "3.10.10"
  }
 },
 "nbformat": 4,
 "nbformat_minor": 5
}
